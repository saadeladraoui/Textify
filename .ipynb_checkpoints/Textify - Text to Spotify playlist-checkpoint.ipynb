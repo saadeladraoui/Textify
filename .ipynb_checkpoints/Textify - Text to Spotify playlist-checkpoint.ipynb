{
 "cells": [
  {
   "cell_type": "markdown",
   "metadata": {},
   "source": [
    "## Textify - Text to Spotify playlist"
   ]
  },
  {
   "cell_type": "markdown",
   "metadata": {},
   "source": [
    "We start by importing the libraries."
   ]
  },
  {
   "cell_type": "code",
   "execution_count": null,
   "metadata": {},
   "outputs": [],
   "source": [
    "import pandas as pd\n",
    "import numpy as n\n",
    "import collections \n",
    "import spotipy\n",
    "import spotipy.util as util\n",
    "import string\n",
    "import regex as re\n",
    "import time "
   ]
  },
  {
   "cell_type": "markdown",
   "metadata": {},
   "source": [
    "##### Spotify Access Token"
   ]
  },
  {
   "cell_type": "markdown",
   "metadata": {},
   "source": [
    "You need to have a client ID and a client secret key in order to use Spotify API.\n",
    "\n",
    "You can get these credentials from [Spotify Developers website](https://developer.spotify.com/dashboard/). You need to create an account if you don't have one."
   ]
  },
  {
   "cell_type": "code",
   "execution_count": null,
   "metadata": {
    "scrolled": true
   },
   "outputs": [],
   "source": [
    "#Put CLIENT ID\n",
    "CLIENT_ID = '####################' \n",
    "#Put CLIENT SECRET\n",
    "CLIENT_SECRET = '#########################'\n",
    "\n",
    "#Get Access Token\n",
    "token = util.oauth2.SpotifyClientCredentials(client_id=CLIENT_ID, client_secret=CLIENT_SECRET)\n",
    "cache_token = token.get_access_token()\n",
    "sp = spotipy.Spotify(cache_token)"
   ]
  },
  {
   "cell_type": "markdown",
   "metadata": {},
   "source": [
    "##### Used Functions"
   ]
  },
  {
   "cell_type": "markdown",
   "metadata": {},
   "source": [
    "We use this function to remove any type of punctuation from the entered text."
   ]
  },
  {
   "cell_type": "code",
   "execution_count": 266,
   "metadata": {
    "collapsed": true
   },
   "outputs": [],
   "source": [
    "def remove_punctuation(text):\n",
    "    return re.sub(ur\"\\p{P}+\", \"\", text)"
   ]
  },
  {
   "cell_type": "markdown",
   "metadata": {},
   "source": [
    "This function returns the result tracks of a search with a limit set to 30 results. You can find more information about the Spotify API search function [here](https://developer.spotify.com/documentation/web-api/reference/search/search/)."
   ]
  },
  {
   "cell_type": "code",
   "execution_count": 267,
   "metadata": {
    "collapsed": true
   },
   "outputs": [],
   "source": [
    "def search_song(track):\n",
    "    return sp.search(q='track:'+track, type='track',limit=30)"
   ]
  },
  {
   "cell_type": "markdown",
   "metadata": {},
   "source": [
    "This function retrieves the song name, artist name and the song spotify URI from the search results and returns them in a list."
   ]
  },
  {
   "cell_type": "code",
   "execution_count": 268,
   "metadata": {
    "collapsed": true
   },
   "outputs": [],
   "source": [
    "def get_result_songs(text):\n",
    "    result_search=search_song(text)['tracks']['items']\n",
    "    data=[]\n",
    "    if len(result_search)==0:\n",
    "        return data\n",
    "\n",
    "    for result in result_search:\n",
    "        entry={}\n",
    "        entry['name'] = result['name']\n",
    "        entry['artist']  = result['artists'][0]['name']\n",
    "        entry['uri']= result['uri']\n",
    "        data.append(entry)\n",
    "    \n",
    "    return data"
   ]
  },
  {
   "cell_type": "markdown",
   "metadata": {},
   "source": [
    "The next function gets the whole text and follows these steps to transform it into a playlist: \n",
    "- Transform the text to a lower format and remove the punctuation\n",
    "- Split the text and put it in a stack\n",
    "- Loop through the list of words in the stack\n",
    "- Each loop, we get the first 5 elements of the stack\n",
    "- We create a loop with the stack of 5 elements, each time we joine them in a string, then perform a spotify search to try to find a match with a song. If we cannot find a match we pop the last element and try to find a match with the 4 elements and so on. The loop ends until there's no word in the stack of 5 elemnts or when there's a match.\n",
    "- If there's a match we then increase our pointer by the number of elements used to get a match with a song, if not we increase it by 1 and just skip the word."
   ]
  },
  {
   "cell_type": "markdown",
   "metadata": {},
   "source": [
    "###### Example\n",
    "\n",
    "entered text : \"Hello how are you today\"\n",
    "\n",
    "First Loop : \n",
    "\n",
    "- 1st test : look for \"hello how are you today\" but no match.\n",
    "- 2nd test : look for \"hello how are you\" but no match.\n",
    "- 3rd test : look for \"hello how are\" but no match.\n",
    "- 4th test : look for \"hello how\" but no match.\n",
    "- 5th test : look for \"hello\" and we match with Adele - Hello.\n",
    "\n",
    "Second Loop :\n",
    "\n",
    "- 1st test : look for \"how are you today\" and we match with Christopher Rau - How Are You Today ?"
   ]
  },
  {
   "cell_type": "markdown",
   "metadata": {},
   "source": [
    "The problem I encountered is that I couldn't find a way to force exact matching in Spotify queries and sometimes it limits the quality of the returned results compared with the search query. :("
   ]
  },
  {
   "cell_type": "code",
   "execution_count": 269,
   "metadata": {
    "collapsed": true
   },
   "outputs": [],
   "source": [
    "def get_songs(text_entry):\n",
    "    text_entry=remove_punctuation(text_entry.lower())\n",
    "    text_entry=text_entry.split()\n",
    "    i=0\n",
    "    n=len(text_entry)\n",
    "    songs=[]\n",
    "    while i<n:\n",
    "        split=text_entry[i:i+5]\n",
    "        tag_found=False\n",
    "        while len(split)>0 and not tag_found:\n",
    "            text=' AND '.join(split)\n",
    "            text_unsplitted=' '.join(split)\n",
    "            get_results=get_result_songs(text)\n",
    "            if len(get_results)!=0:\n",
    "                for element in get_results:\n",
    "                    songname=remove_punctuation(element['name'])\n",
    "                    songname=songname.lower()\n",
    "                    if songname==text_unsplitted:\n",
    "                        songs.append(element)\n",
    "                        tag_found=True\n",
    "                        break\n",
    "            if tag_found:\n",
    "                i=i+len(split)\n",
    "            else:\n",
    "                split.pop()\n",
    "\n",
    "        if not tag_found:\n",
    "            i=i+1\n",
    "    \n",
    "    return songs"
   ]
  },
  {
   "cell_type": "markdown",
   "metadata": {},
   "source": [
    "### Test Examples"
   ]
  },
  {
   "cell_type": "code",
   "execution_count": 271,
   "metadata": {},
   "outputs": [
    {
     "data": {
      "text/plain": [
       "[{'artist': u'Adele',\n",
       "  'name': u'Hello',\n",
       "  'uri': u'spotify:track:4sPmO7WMQUAf45kwMOtONw'},\n",
       " {'artist': u'Michelle Gurevich',\n",
       "  'name': u\"Let's Meet\",\n",
       "  'uri': u'spotify:track:16I9T2PXqy0nVpUPATNE0m'},\n",
       " {'artist': u'MeloMance',\n",
       "  'name': u'At the Cinema',\n",
       "  'uri': u'spotify:track:1fVdYz0JuL3p2petdaDGkP'},\n",
       " {'artist': u'Danny Groove',\n",
       "  'name': u'Tonigth',\n",
       "  'uri': u'spotify:track:4tB615lvL23bjRZLAMRP5U'}]"
      ]
     },
     "execution_count": 271,
     "metadata": {},
     "output_type": "execute_result"
    }
   ],
   "source": [
    "get_songs(\"Hello let's meet at the cinema tonigth\")"
   ]
  },
  {
   "cell_type": "code",
   "execution_count": 272,
   "metadata": {},
   "outputs": [
    {
     "data": {
      "text/plain": [
       "[{'artist': u'Lyves',\n",
       "  'name': u'The Weather',\n",
       "  'uri': u'spotify:track:3J7wh2tkjlGS2LmQmIkwYb'},\n",
       " {'artist': u'BLACKPINK',\n",
       "  'name': u'REALLY',\n",
       "  'uri': u'spotify:track:6OKXcx7tClGAS0o2cOTl2v'},\n",
       " {'artist': u'XXXTENTACION',\n",
       "  'name': u'BAD!',\n",
       "  'uri': u'spotify:track:4CH66Rxcjcj3VBHwmIBj4T'},\n",
       " {'artist': u'Faith Hill',\n",
       "  'name': u'I Think I Will',\n",
       "  'uri': u'spotify:track:4aqfREjGLoNTdSDS5qAJ2Y'},\n",
       " {'artist': u'Men At Work',\n",
       "  'name': u'Stay at Home',\n",
       "  'uri': u'spotify:track:14IfH2DuGCnm6OMkmYuzlP'},\n",
       " {'artist': u'Jax Jones',\n",
       "  'name': u'Play',\n",
       "  'uri': u'spotify:track:29R1IMTTbDDA3VNlk6UEW5'},\n",
       " {'artist': u'Macseal',\n",
       "  'name': u'Cats',\n",
       "  'uri': u'spotify:track:0Sz9cETbT6N4Pe33xvyHwC'}]"
      ]
     },
     "execution_count": 272,
     "metadata": {},
     "output_type": "execute_result"
    }
   ],
   "source": [
    "get_songs(\"The weather is really bad, I think I will stay at home and play with my cats.\")"
   ]
  },
  {
   "cell_type": "code",
   "execution_count": 273,
   "metadata": {},
   "outputs": [
    {
     "data": {
      "text/plain": [
       "[{'artist': u'Dr. Jean Feldman',\n",
       "  'name': u'Hello, How Are You?',\n",
       "  'uri': u'spotify:track:4rTJmwy3HOPQQhqORzPqBD'},\n",
       " {'artist': u'Dido',\n",
       "  'name': u'Thank You',\n",
       "  'uri': u'spotify:track:751gBcu62kORDelX7FV0mM'},\n",
       " {'artist': u'Jaydayoungan',\n",
       "  'name': u'See You Later',\n",
       "  'uri': u'spotify:track:1mktWKQklKC1ImhBo4afnI'}]"
      ]
     },
     "execution_count": 273,
     "metadata": {},
     "output_type": "execute_result"
    }
   ],
   "source": [
    "get_songs(\"Hello, how are you? Thank you. See you later.\")"
   ]
  }
 ],
 "metadata": {
  "kernelspec": {
   "display_name": "Python 3",
   "language": "python",
   "name": "python3"
  },
  "language_info": {
   "codemirror_mode": {
    "name": "ipython",
    "version": 3
   },
   "file_extension": ".py",
   "mimetype": "text/x-python",
   "name": "python",
   "nbconvert_exporter": "python",
   "pygments_lexer": "ipython3",
   "version": "3.7.3"
  }
 },
 "nbformat": 4,
 "nbformat_minor": 2
}
